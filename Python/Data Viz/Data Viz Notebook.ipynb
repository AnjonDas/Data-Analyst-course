{
 "cells": [
  {
   "cell_type": "markdown",
   "metadata": {},
   "source": [
    "## Libraries"
   ]
  },
  {
   "cell_type": "code",
   "execution_count": 1,
   "metadata": {},
   "outputs": [],
   "source": [
    "import numpy as np\n",
    "import pandas as pd\n",
    "import matplotlib.pyplot as plt\n",
    "import seaborn as sns\n",
    "from matplotlib.ticker import PercentFormatter\n",
    "sns.set()"
   ]
  },
  {
   "cell_type": "markdown",
   "metadata": {},
   "source": [
    "## Bar Chart Homework Task I - Create a Horizontal Bar Chart"
   ]
  },
  {
   "cell_type": "markdown",
   "metadata": {},
   "source": [
    "### Your homework task is to use the data set from the section and create a Horizontal Bar Chart. In essence, the information on the chart will remain the same. But you’ll have swapped the x- and y-axis of the chart.\n",
    "### This is your chance to explore the software, so you try out different options. For instance, choosing another color for the chart or exploring alternative chart formatting options.\n",
    "### Tip: \tPython - in Matplotlib the barh() function creates a horizontal bar chart.  \n"
   ]
  },
  {
   "cell_type": "code",
   "execution_count": 2,
   "metadata": {},
   "outputs": [],
   "source": [
    "df_used_cars = pd.read_csv(\"bar_chart_data.csv\")"
   ]
  },
  {
   "cell_type": "code",
   "execution_count": 3,
   "metadata": {},
   "outputs": [
    {
     "data": {
      "text/html": [
       "<div>\n",
       "<style scoped>\n",
       "    .dataframe tbody tr th:only-of-type {\n",
       "        vertical-align: middle;\n",
       "    }\n",
       "\n",
       "    .dataframe tbody tr th {\n",
       "        vertical-align: top;\n",
       "    }\n",
       "\n",
       "    .dataframe thead th {\n",
       "        text-align: right;\n",
       "    }\n",
       "</style>\n",
       "<table border=\"1\" class=\"dataframe\">\n",
       "  <thead>\n",
       "    <tr style=\"text-align: right;\">\n",
       "      <th></th>\n",
       "      <th>Cities</th>\n",
       "      <th>Frequency</th>\n",
       "    </tr>\n",
       "  </thead>\n",
       "  <tbody>\n",
       "    <tr>\n",
       "      <th>0</th>\n",
       "      <td>New York</td>\n",
       "      <td>12327</td>\n",
       "    </tr>\n",
       "    <tr>\n",
       "      <th>1</th>\n",
       "      <td>LA</td>\n",
       "      <td>17129</td>\n",
       "    </tr>\n",
       "    <tr>\n",
       "      <th>2</th>\n",
       "      <td>San Francisco</td>\n",
       "      <td>19923</td>\n",
       "    </tr>\n",
       "    <tr>\n",
       "      <th>3</th>\n",
       "      <td>Total</td>\n",
       "      <td>49379</td>\n",
       "    </tr>\n",
       "  </tbody>\n",
       "</table>\n",
       "</div>"
      ],
      "text/plain": [
       "          Cities  Frequency\n",
       "0       New York      12327\n",
       "1             LA      17129\n",
       "2  San Francisco      19923\n",
       "3          Total      49379"
      ]
     },
     "execution_count": 3,
     "metadata": {},
     "output_type": "execute_result"
    }
   ],
   "source": [
    "df_used_cars"
   ]
  },
  {
   "cell_type": "code",
   "execution_count": 9,
   "metadata": {
    "scrolled": true
   },
   "outputs": [
    {
     "data": {
      "image/png": "[encoded data removed]",
      "text/plain": [
       "<Figure size 648x432 with 1 Axes>"
      ]
     },
     "metadata": {},
     "output_type": "display_data"
    }
   ],
   "source": [
    "plt.figure(figsize = (9, 6))\n",
    "plt.barh(y = df_used_cars[\"Cities\"], #this is an inverted bar chart, so the first argument is the y axis\n",
    "        width = df_used_cars[\"Frequency\"], #the second argument shows the x-axis or is the width\n",
    "        color = \"aqua\")\n",
    "plt.xticks( fontsize = 13)\n",
    "plt.yticks( fontsize = 13)\n",
    "plt.title(\"Cars Listings by Brand\", fontsize = 16, fontweight = \"bold\")\n",
    "plt.xlabel(\"Number of Listings\", fontsize = 13 )\n",
    "plt.tight_layout()\n",
    "plt.savefig(\"Used Cars Bar.png\")\n",
    "plt.show()"
   ]
  },
  {
   "cell_type": "markdown",
   "metadata": {},
   "source": [
    "## Bar Chart Homework Task II - Create Bar Chart of Ice Cream Shop Sales"
   ]
  },
  {
   "cell_type": "markdown",
   "metadata": {},
   "source": [
    "### You have a frequency distribution table with all the sales of an ice cream shop chain across four cities. Your task is to create a bar chart of the data. \n",
    "\n",
    "### Step 1: Create the chart.\n",
    "### Step 2: Make sure your chart has sufficient labeling and is well styled.\n",
    "### Step 3: Interpret the chart."
   ]
  },
  {
   "cell_type": "code",
   "execution_count": 12,
   "metadata": {},
   "outputs": [],
   "source": [
    "df_ice_cream = pd.read_csv(\"bar_chart_homework_data.csv\")"
   ]
  },
  {
   "cell_type": "code",
   "execution_count": 13,
   "metadata": {},
   "outputs": [
    {
     "data": {
      "text/html": [
       "<div>\n",
       "<style scoped>\n",
       "    .dataframe tbody tr th:only-of-type {\n",
       "        vertical-align: middle;\n",
       "    }\n",
       "\n",
       "    .dataframe tbody tr th {\n",
       "        vertical-align: top;\n",
       "    }\n",
       "\n",
       "    .dataframe thead th {\n",
       "        text-align: right;\n",
       "    }\n",
       "</style>\n",
       "<table border=\"1\" class=\"dataframe\">\n",
       "  <thead>\n",
       "    <tr style=\"text-align: right;\">\n",
       "      <th></th>\n",
       "      <th>Cities</th>\n",
       "      <th>Frequency</th>\n",
       "    </tr>\n",
       "  </thead>\n",
       "  <tbody>\n",
       "    <tr>\n",
       "      <th>0</th>\n",
       "      <td>New York</td>\n",
       "      <td>12327</td>\n",
       "    </tr>\n",
       "    <tr>\n",
       "      <th>1</th>\n",
       "      <td>LA</td>\n",
       "      <td>17129</td>\n",
       "    </tr>\n",
       "    <tr>\n",
       "      <th>2</th>\n",
       "      <td>San Francisco</td>\n",
       "      <td>19923</td>\n",
       "    </tr>\n",
       "    <tr>\n",
       "      <th>3</th>\n",
       "      <td>Total</td>\n",
       "      <td>49379</td>\n",
       "    </tr>\n",
       "  </tbody>\n",
       "</table>\n",
       "</div>"
      ],
      "text/plain": [
       "          Cities  Frequency\n",
       "0       New York      12327\n",
       "1             LA      17129\n",
       "2  San Francisco      19923\n",
       "3          Total      49379"
      ]
     },
     "execution_count": 13,
     "metadata": {},
     "output_type": "execute_result"
    }
   ],
   "source": [
    "df_ice_cream"
   ]
  },
  {
   "cell_type": "code",
   "execution_count": 14,
   "metadata": {},
   "outputs": [
    {
     "data": {
      "image/png": "[encoded data removed]",
      "text/plain": [
       "<Figure size 648x432 with 1 Axes>"
      ]
     },
     "metadata": {},
     "output_type": "display_data"
    }
   ],
   "source": [
    "#In this task there are two options for representing the data with a bar chart. \n",
    "#The first is using a regular bar, chart, while the second is with a horizontal bar chart.\n",
    "# Both options are correct, however the first option (shown in this cell) is more frequently shown.\n",
    "\n",
    "plt.figure(figsize = (9, 6))\n",
    "plt.bar(x =  df_ice_cream[\"Cities\"] , \n",
    "        height =df_ice_cream[\"Frequency\"], \n",
    "        color = \"midnightblue\")\n",
    "plt.xticks( fontsize = 13)\n",
    "plt.yticks( fontsize = 13)\n",
    "plt.title(\"Sales\", fontsize = 16, fontweight = \"bold\")\n",
    "plt.ylabel(\"Frequency\", fontsize = 13 )\n",
    "plt.tight_layout()\n",
    "plt.savefig(\"Ice Cream Shop v.png\")\n",
    "plt.show()"
   ]
  },
  {
   "cell_type": "markdown",
   "metadata": {},
   "source": [
    "## Area Chart Homework I"
   ]
  },
  {
   "cell_type": "markdown",
   "metadata": {},
   "source": [
    "### Create a stacked area chart using all four engine type categories on the chart. They are Gas, Petrol, Diesel, Other.\n",
    "### Think about the order in which you’ll display the categories.\n",
    "### Consider the colors, which would fit your graph.\n",
    "### Finally, think about a setting in which you’d be required to present all four categories from the data. What would be the interpretation of your newly created chart?\n"
   ]
  },
  {
   "cell_type": "code",
   "execution_count": null,
   "metadata": {},
   "outputs": [],
   "source": [
    "df_fuel_engine_types = pd.read_csv(\"stacked_area_chart_data.csv\")"
   ]
  },
  {
   "cell_type": "code",
   "execution_count": null,
   "metadata": {},
   "outputs": [],
   "source": [
    "df_fuel_engine_types"
   ]
  },
  {
   "cell_type": "code",
   "execution_count": null,
   "metadata": {},
   "outputs": [],
   "source": [
    "# For the stacked area chart it's important to order the categories from largest to smallest.\n",
    "# Then, order the colors and labels list in the same for proper labeling.\n",
    "colors = [\"#011638\", \"#7e2987\", \"ef2026\", \"FFC000\"]\n",
    "labels = [\"Diesel\", \"Petrol\", \"Gas\", \"Other\"]\n",
    "sns.set_style(\"white\")\n",
    "plt.figure(figsize = (12, 6))\n",
    "plt.stackplot(df_fuel_engine_types[\"Year\"],\n",
    "              df_fuel_engine_types[\"Diesel\"],\n",
    "              df_fuel_engine_types[\"Petrol\"],\n",
    "              df_fuel_engine_types[\"Gas\"],\n",
    "              df_fuel_engine_types[\"Other\"],\n",
    "              colors = colors,\n",
    "              edgecolor = 'none')\n",
    "plt.xticks(df_fuel_engine_types[\"Year\"], rotation = 45)\n",
    "plt.legend(labels = labels, loc = \"upper left\")\n",
    "plt.ylabel(\"Number of Cars\", fontsize = 13)\n",
    "plt.title(\"Popularity of Engine Fuel Types (1982 - 2016)\", fontsize = 14, weight = \"bold\")\n",
    "sns.despine()\n",
    "plt.show()"
   ]
  },
  {
   "cell_type": "markdown",
   "metadata": {},
   "source": [
    "## Area Chart Homework II - Create an Area Chart of a Company's Revenue"
   ]
  },
  {
   "cell_type": "markdown",
   "metadata": {},
   "source": [
    "### Your homework task is to create a stacked area chart of a printer company and its revenue for the last 12 months. The data set contains monthly values in the span of a year and features three revenue sources:\n",
    "### -\tInternational Printer Sales\n",
    "### -\tDomestic Printer Sales\n",
    "### -\tServices (fixed fee)\n",
    "### Think about the ordering of the categories, as well as the appropriate colors when displaying your chart. After you’ve completed the chart think about interpretation. What does the chart show? Which would you say is the most important revenue source for the business and why? How does the performance of the company look when considering the Date factor?\n",
    "\n"
   ]
  },
  {
   "cell_type": "code",
   "execution_count": null,
   "metadata": {},
   "outputs": [],
   "source": [
    "df_revenue_2020 = pd.read_csv(\"area_chart_homework_data.csv\")"
   ]
  },
  {
   "cell_type": "code",
   "execution_count": null,
   "metadata": {},
   "outputs": [],
   "source": [
    "df_revenue_2020\n"
   ]
  },
  {
   "cell_type": "code",
   "execution_count": null,
   "metadata": {},
   "outputs": [],
   "source": [
    "# This Stacked Area Chart displays the company's monthly revenue for the year 2020.\n",
    "# For this chart it's important to order the categories from largest to smallest for better readability.\n",
    "# Make sure you order the colors and labels lists in the same way.\n",
    "# A bright color (such as yellow) would make the smallest category stand out more, however, \n",
    "# for this chart, you're welcome to explore your own color palettes.\n",
    "\n",
    "colors = [\"#215968\", \"#31859C\", \"#FFC000\"]\n",
    "labels = [\"International\", \"Services\", \"Domestic\"]\n",
    "sns.set_style(\"white\")\n",
    "plt.figure(figsize = (12, 6))\n",
    "plt.stackplot(df_revenue_2020[\"Date\"],\n",
    "              df_revenue_2020[\"International\"],\n",
    "              df_revenue_2020[\"Services\"],\n",
    "              df_revenue_2020[\"Domestic\"],\n",
    "              colors = colors,\n",
    "              edgecolor = 'none')\n",
    "plt.xticks(df_revenue_2020[\"Date\"], rotation = 45)\n",
    "plt.legend(labels = labels, loc = \"upper left\")\n",
    "plt.ylabel(\"Revenue in $\", fontsize = 13)\n",
    "plt.title(\"Revenue Report 2020\", fontsize = 14, weight = \"bold\")\n",
    "sns.despine()\n",
    "plt.show()"
   ]
  },
  {
   "cell_type": "markdown",
   "metadata": {},
   "source": [
    "## Line Chart Homework - Create a Line Chart with New Index Data"
   ]
  },
  {
   "cell_type": "markdown",
   "metadata": {},
   "source": [
    "### Your Homework task is to create a line chart using the new index data which is from 2010 until 2020.\n",
    "### After you’ve created your line chart:\n",
    "### •\tThink about narrowing down the time frame to a more specific period.\n",
    "### •\tThink about the interpretation of the chart with a specific time frame. Why have you chosen this period, specifically? What would you tell your audience or your colleagues if you were presenting this chart?\n"
   ]
  },
  {
   "cell_type": "code",
   "execution_count": null,
   "metadata": {},
   "outputs": [],
   "source": [
    "df_spx_ftse_10_20 = pd.read_csv(\"returns1020.csv\")"
   ]
  },
  {
   "cell_type": "code",
   "execution_count": null,
   "metadata": {},
   "outputs": [],
   "source": [
    "#pay attention here the columns are GSPCRet and FTSERet as opposed to GSPC500 and FTSE100\n",
    "df_spx_ftse_10_20"
   ]
  },
  {
   "cell_type": "code",
   "execution_count": null,
   "metadata": {},
   "outputs": [],
   "source": [
    "df_spx_ftse_10_20[\"new_date\"] = pd.to_datetime(df_spx_ftse_10_20[\"Date\"])"
   ]
  },
  {
   "cell_type": "code",
   "execution_count": null,
   "metadata": {},
   "outputs": [],
   "source": [
    "df_spx_ftse_10_20[\"new_date\"]"
   ]
  },
  {
   "cell_type": "code",
   "execution_count": null,
   "metadata": {},
   "outputs": [],
   "source": [
    "labels = [\"S&P 500\", \"FTSE 100\"]\n",
    "plt.figure(figsize = (20, 8))\n",
    "plt.plot(df_spx_ftse_10_20[\"new_date\"], df_spx_ftse_10_20[\"GSPCRet\"])\n",
    "plt.plot(df_spx_ftse_10_20[\"new_date\"], df_spx_ftse_10_20[\"FTSERet\"])\n",
    "plt.title(\"S&P vs FTSE Returns (2010 - 2020)\", fontsize = 14, fontweight = \"bold\")\n",
    "plt.ylabel(\"Returns\")\n",
    "plt.xlabel(\"Date\")\n",
    "plt.legend(labels = labels, fontsize = \"large\")\n",
    "plt.show()"
   ]
  },
  {
   "cell_type": "code",
   "execution_count": null,
   "metadata": {},
   "outputs": [],
   "source": [
    "df_spx_ftse_H2_15 = df_spx_ftse_10_20[(df_spx_ftse_10_20.new_date >= '2015-07-01') &\n",
    "                                      (df_spx_ftse_10_20.new_date <= '2015-12-31')]"
   ]
  },
  {
   "cell_type": "code",
   "execution_count": null,
   "metadata": {},
   "outputs": [],
   "source": [
    "df_spx_ftse_H2_15"
   ]
  },
  {
   "cell_type": "code",
   "execution_count": null,
   "metadata": {},
   "outputs": [],
   "source": [
    "plt.figure(figsize = (20, 8))\n",
    "plt.plot(df_spx_ftse_H2_15[\"new_date\"], df_spx_ftse_H2_15[\"GSPCRet\"], color = \"midnightblue\")\n",
    "plt.plot(df_spx_ftse_H2_15[\"new_date\"], df_spx_ftse_H2_15[\"FTSERet\"], color = \"crimson\")\n",
    "plt.title(\"S&P vs FTSE Returns (H2 2015)\", fontsize = 14, fontweight = \"bold\")\n",
    "plt.ylabel(\"Returns\")\n",
    "plt.xlabel(\"Date\")\n",
    "plt.legend(labels = labels, fontsize = \"large\")\n",
    "plt.show()"
   ]
  },
  {
   "cell_type": "markdown",
   "metadata": {},
   "source": [
    "## Histogram Homework Task - Create a Histogram Showing Distribution of Age"
   ]
  },
  {
   "cell_type": "markdown",
   "metadata": {},
   "source": [
    "### The data set for this assignment contains a survey of geodemographic features among 2000 participants. Your task is to create a histogram based on the Age variable in the data.\n",
    "### •\tDecide on how many bins or what intervals lengths are appropriate for the histogram\n",
    "### •\tWhat is the data distribution? What insight can you gain about the age/age groups of the participants in the survey?\n",
    "### •\tDon’t forget to format your chart by improving the colors and including proper chart labeling."
   ]
  },
  {
   "cell_type": "code",
   "execution_count": null,
   "metadata": {},
   "outputs": [],
   "source": [
    "df_customer_survey = pd.read_csv(\"histogram_survey_data.csv\")"
   ]
  },
  {
   "cell_type": "code",
   "execution_count": null,
   "metadata": {},
   "outputs": [],
   "source": [
    "df_customer_survey"
   ]
  },
  {
   "cell_type": "code",
   "execution_count": null,
   "metadata": {},
   "outputs": [],
   "source": [
    "sns.set_style(\"white\")\n",
    "plt.figure(figsize = (8, 6))\n",
    "plt.hist(df_customer_survey[\"Age\"],\n",
    "         bins = 12, \n",
    "         color = \"darkseagreen\")\n",
    "plt.title(\"Customer Survey Age Distribution\", fontsize = 14, weight = \"bold\")\n",
    "plt.xticks(np.arange(min(df_customer_survey[\"Age\"]), max(df_customer_survey[\"Age\"]),5.0))\n",
    "plt.xlabel(\"Age\")\n",
    "plt.ylabel(\"Number of Participants\")\n",
    "sns.despine()\n",
    "plt.show()"
   ]
  },
  {
   "cell_type": "markdown",
   "metadata": {},
   "source": [
    "## Scatter Plot Homework Task - Create a Scatter Plot of Student Scores"
   ]
  },
  {
   "cell_type": "markdown",
   "metadata": {},
   "source": [
    "### Your task is to plot the GPA and SAT student scores using a scatter plot.\n",
    "### •\tDecide which will be your x- and y-axis\n",
    "### •\tThink about chart interpretation. What is the relationship between these variables?\n",
    "### •\tConsider altering the chart limits, so the y-axis doesn’t start from 0. "
   ]
  },
  {
   "cell_type": "code",
   "execution_count": null,
   "metadata": {},
   "outputs": [],
   "source": [
    "df_student_scores = pd.read_csv(\"student_scores_data.csv\")"
   ]
  },
  {
   "cell_type": "code",
   "execution_count": null,
   "metadata": {},
   "outputs": [],
   "source": [
    "df_student_scores"
   ]
  },
  {
   "cell_type": "code",
   "execution_count": null,
   "metadata": {},
   "outputs": [],
   "source": [
    "# The scatter plot displaying the SAT scores and GPA for the students, shows a relationship between the two variables. \n",
    "# It seems the higher the SAT score, the more likely it is for students to obtain a higher GPA.\n",
    "# Note that the plot is automatically adjusted, so the x and y-axis do not start from 0. Instead, they reflect the variables domain.\n",
    "plt.figure(figsize = (12, 8))\n",
    "scatter = plt.scatter(df_student_scores['SAT'],\n",
    "                      df_student_scores['GPA'], \n",
    "                      color = \"midnightblue\") \n",
    "plt.title(\"GPA and SAT Student Scores\", \n",
    "          fontsize = 14, \n",
    "          weight = \"bold\")\n",
    "plt.xlabel(\"SAT\", weight = \"bold\")\n",
    "plt.ylabel(\"GPA\", weight = \"bold\")\n",
    "plt.show()"
   ]
  },
  {
   "cell_type": "markdown",
   "metadata": {},
   "source": [
    "## Regression Plot Homework Task - Regression Plot of Auto Insurance in Sweden"
   ]
  },
  {
   "cell_type": "markdown",
   "metadata": {},
   "source": [
    "### Create a regression plot on the data set of car insurance in Sweden.\n",
    "### •\tDecide which is your x- and which your y-axis\n",
    "### •\tWhat is the relationship between the two variables?\n",
    "### •\tHow would you interpret the chart?\n",
    "### •\tWhat would be an appropriate chart title?"
   ]
  },
  {
   "cell_type": "code",
   "execution_count": null,
   "metadata": {},
   "outputs": [],
   "source": [
    "df_auto_insurance = pd.read_csv(\"regression_auto_insurance_sweden.csv\")"
   ]
  },
  {
   "cell_type": "code",
   "execution_count": null,
   "metadata": {},
   "outputs": [],
   "source": [
    "df_auto_insurance"
   ]
  },
  {
   "cell_type": "code",
   "execution_count": null,
   "metadata": {},
   "outputs": [],
   "source": [
    "# Regresssion plot of the car insurance data using a reg plot.\n",
    "# What we observe is that there seems to be a linear relationship between the two variables. The higher the insurance claim, the higher the payment it has received.\n",
    "sns.set(rc = {'figure.figsize': (9,6)})\n",
    "sns.regplot(x = \"Claims\", \n",
    "            y = \"Payment\", \n",
    "            data = df_auto_insurance, \n",
    "            scatter_kws = {'color': 'k'}, \n",
    "            line_kws = {'color': 'red'})\n",
    "plt.xlabel(\"Claims\")\n",
    "plt.ylabel(\"Payment\")\n",
    "plt.title(\"Car Insurance Claims and Payment in Sweden\", fontsize = 14, weight = \"bold\")\n",
    "plt.show()"
   ]
  },
  {
   "cell_type": "code",
   "execution_count": null,
   "metadata": {},
   "outputs": [],
   "source": [
    "# The car insurance data visualized using an sns lm plot\n",
    "sns.lmplot(x = \"Claims\", \n",
    "           y = \"Payment\", \n",
    "           data = df_auto_insurance,  \n",
    "           height = 10, \n",
    "           scatter_kws = {'color': 'k'}, \n",
    "           line_kws = {'color': 'red'})\n",
    "plt.xlabel(\"Claims\")\n",
    "plt.ylabel(\"Payment\")\n",
    "plt.title(\"Car Insurance Claims and Payment in Sweden\", fontsize = 14, weight = \"bold\")\n",
    "plt.show()"
   ]
  },
  {
   "cell_type": "markdown",
   "metadata": {},
   "source": [
    "## Bar and Line Chart Homework - Pareto Chart of Movie Goers' Complaints"
   ]
  },
  {
   "cell_type": "markdown",
   "metadata": {},
   "source": [
    "### Your goal for this homework task is to create a Pareto chart. A Pareto is a specific case of a bar and line chart. The specificity comes from the fact that the bars on the Pareto bar chart are displayed in decreasing order of frequency. The line chart on the other hand always shows the cumulative frequency on a Pareto. Cumulative frequency means the sum of frequencies occurring up to this point. So, for the first element, it will show the frequency of occurrence for the first element only. For the second element it will be the sum of frequency for the first and second element, and so on. The last cumulative frequency is 100% as it is the sum of all individual frequencies.\n",
    "### Related to the Pareto chart is the Pareto principle, also known as the 80/20 rule. Observed for the first time by Italian economist Wilfredo Pareto, who realized that around 80% of the land in Italy was owned by about 20% of the people. As such, this phenomenon shows that usually around 80% of problems are caused by 20% of the people. \n",
    "### Our data set for this task contains the top 5 Movie Goers complaints. Your task is to create a Pareto chart, based on the data. \n",
    "### The complaints must be ordered in decreasing order of frequency. This will represent your bar chart. \n",
    "### The cumulative frequency will be your line chart, represented as percentages. It must sum up to 100%, so your last value on the line chart must show 100%.\n"
   ]
  },
  {
   "cell_type": "code",
   "execution_count": null,
   "metadata": {},
   "outputs": [],
   "source": [
    "df_movie_complaints = pd.read_csv(\"bar_line_chart_homework.csv\")"
   ]
  },
  {
   "cell_type": "code",
   "execution_count": null,
   "metadata": {},
   "outputs": [],
   "source": [
    "df_movie_complaints"
   ]
  },
  {
   "cell_type": "code",
   "execution_count": null,
   "metadata": {},
   "outputs": [],
   "source": [
    "# Creating the pareto chart of the movie goers complaints data by creating a figure with two axes. \n",
    "# The top two complaints make up fo around 90% of the overall complaints. \n",
    "# If the theaters address the first two or even the first complaint only for the poor projection quality,\n",
    "# the number of complaints will be reduced drastically.\n",
    "fig, ax = plt.subplots(figsize = (10, 7))\n",
    "\n",
    "ax.bar(df_movie_complaints[\"Movie Theater Goers Complaints\"],\n",
    "       df_movie_complaints[\"Number of complaints\"],\n",
    "       color = \"midnightblue\")\n",
    "ax.set_ylabel(\"Number of Complaints\",\n",
    "              color = \"midnightblue\",\n",
    "              weight = \"bold\")\n",
    "ax.tick_params(axis = \"y\", \n",
    "               width = 2, \n",
    "               labelsize = \"large\",\n",
    "               colors = \"midnightblue\")\n",
    "ax1 = ax.twinx()\n",
    "ax1.set_ylim(0, 1.1) #increase the limit slightly, so the line chart isn't cut\n",
    "ax1.yaxis.set_major_formatter(PercentFormatter(xmax = 1.0))\n",
    "ax1.plot(df_movie_complaints[\"Movie Theater Goers Complaints\"],\n",
    "         df_movie_complaints[\"frequency\"],\n",
    "         color = \"#b60000\", \n",
    "         marker = \"D\")\n",
    "ax1.set_ylabel(\"Frequency\", \n",
    "               color = \"#b60000\", \n",
    "               weight = \"bold\")\n",
    "ax1.tick_params(axis = \"y\", \n",
    "                colors = \"#b60000\", \n",
    "                width = 2, \n",
    "                labelsize = \"large\")\n",
    "ax.set_title(\"Top 5 Movie Goers Complaints Frequency Distribution\", fontsize = \"14\", weight = \"bold\", color = \"midnightblue\")\n",
    "plt.show()"
   ]
  },
  {
   "cell_type": "code",
   "execution_count": null,
   "metadata": {},
   "outputs": [],
   "source": []
  },
  {
   "cell_type": "code",
   "execution_count": null,
   "metadata": {},
   "outputs": [],
   "source": []
  }
 ],
 "metadata": {
  "kernelspec": {
   "display_name": "Python 3 (ipykernel)",
   "language": "python",
   "name": "python3"
  },
  "language_info": {
   "codemirror_mode": {
    "name": "ipython",
    "version": 3
   },
   "file_extension": ".py",
   "mimetype": "text/x-python",
   "name": "python",
   "nbconvert_exporter": "python",
   "pygments_lexer": "ipython3",
   "version": "3.9.7"
  }
 },
 "nbformat": 4,
 "nbformat_minor": 2
}
